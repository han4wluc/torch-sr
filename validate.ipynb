{
 "cells": [
  {
   "cell_type": "code",
   "execution_count": null,
   "metadata": {
    "collapsed": true
   },
   "outputs": [],
   "source": [
    "\n",
    "function reload(name)\n",
    "    package.loaded[name] = nil\n",
    "    return require(name)\n",
    "end\n",
    "reload('utils')\n",
    "\n",
    "labels_train, labels_validation, data_train, data_validation = utils.load_data()\n",
    "\n",
    "function show_images(start_, end_)\n",
    "    \n",
    "    n_of_images = end_ - start_ + 1\n",
    "\n",
    "    images_9_5_6 = torch.Tensor(n_of_images,3,102,102)\n",
    "    images_9_1_6 = torch.Tensor(n_of_images,3,102,102)\n",
    "    images_bicubic = torch.Tensor(n_of_images,3,102,102)\n",
    "\n",
    "    -- print(images_9_1_6:size())\n",
    "\n",
    "    for i=start_,end_ do\n",
    "        local imagefile = \"./results/srnn_9_1_6/images/img_\" ..i..\".jpg\"\n",
    "        local img = image.load(imagefile,3,'double')\n",
    "        images_9_1_6[i] = img\n",
    "    --     print('i' ,i)\n",
    "    end\n",
    "\n",
    "    -- print(images_9_1_6:size())\n",
    "\n",
    "    for i=start_,end_ do\n",
    "        local imagefile = \"./results/srnn_9_5_6/images/img_\" ..i..\".jpg\"\n",
    "        local img = image.load(imagefile,3,'double')\n",
    "        images_9_5_6[i] = img\n",
    "    end\n",
    "\n",
    "    for i=start_,end_ do\n",
    "        local small_img = data_validation[i]\n",
    "        local scaled_img = image.scale(small_img, 102, 102)\n",
    "        images_bicubic[i] = scaled_img\n",
    "    end\n",
    "\n",
    "    \n",
    "    print('ground truth')\n",
    "    itorch.image(labels_validation[{{start_,end_}}])\n",
    "    os.execute(\"sleep 1\")\n",
    "\n",
    "    \n",
    "    print('images_bicubic')\n",
    "    itorch.image(images_bicubic)\n",
    "    os.execute(\"sleep 1\")\n",
    "\n",
    "    print('images_9_1_6')\n",
    "    itorch.image(images_9_1_6)\n",
    "    os.execute(\"sleep 1\")\n",
    "    \n",
    "    print('images_9_5_6')\n",
    "    itorch.image(images_9_5_6)\n",
    "    \n",
    "\n",
    "end\n",
    "\n",
    "show_images(1, 5)\n"
   ]
  }
 ],
 "metadata": {
  "kernelspec": {
   "display_name": "iTorch",
   "language": "lua",
   "name": "itorch"
  },
  "language_info": {
   "name": "lua",
   "version": "5.1"
  }
 },
 "nbformat": 4,
 "nbformat_minor": 1
}
