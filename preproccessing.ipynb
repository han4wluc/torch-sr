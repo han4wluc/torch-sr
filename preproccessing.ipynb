{
 "cells": [
  {
   "cell_type": "code",
   "execution_count": 1,
   "metadata": {
    "collapsed": true
   },
   "outputs": [],
   "source": [
    "-- num_of_images = 1\n",
    "-- for filename in paths.files('./dataset/jpg') do\n",
    "--     if(filename ~= \".DS_Store\") then\n",
    "--         num_of_images = num_of_images + 1\n",
    "--     end\n",
    "-- end\n",
    "\n",
    "-- num_of_images = num_of_images - 3\n",
    "-- print(num_of_images)\n",
    "\n",
    "-- images = torch.Tensor(num_of_images, 3, 102, 102)\n",
    "\n",
    "-- for i=1,num_of_images do\n",
    "--     imagefile = \"./dataset/jpg/\"..i..\".jpg\"\n",
    "--     img = image.load(imagefile,3,'double')\n",
    "--     images[i] = img\n",
    "-- end\n",
    "\n",
    "-- print(images:size())\n",
    "\n",
    "-- torch.save('./dataset/images.t7', images)"
   ]
  },
  {
   "cell_type": "code",
   "execution_count": null,
   "metadata": {
    "collapsed": true
   },
   "outputs": [],
   "source": []
  }
 ],
 "metadata": {
  "kernelspec": {
   "display_name": "iTorch",
   "language": "lua",
   "name": "itorch"
  },
  "language_info": {
   "name": "lua",
   "version": "5.1"
  }
 },
 "nbformat": 4,
 "nbformat_minor": 1
}
