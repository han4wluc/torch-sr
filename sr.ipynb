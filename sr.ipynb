{
 "cells": [
  {
   "cell_type": "code",
   "execution_count": 40,
   "metadata": {
    "collapsed": false
   },
   "outputs": [],
   "source": [
    "function reload(name)\n",
    "    package.loaded[name] = nil\n",
    "    return require(name)\n",
    "end\n",
    "\n",
    "image = require 'image'\n",
    "require 'nn'\n",
    "require 'os'\n",
    "require 'paths'\n",
    "require 'optim'\n",
    "require 'sys'\n",
    "\n",
    "logger = optim.Logger('./logs/loss_log.txt')\n",
    "\n",
    "os.execute('mkdir -p dataset logs models')\n",
    "\n",
    "reload('utils')"
   ]
  },
  {
   "cell_type": "code",
   "execution_count": 17,
   "metadata": {
    "collapsed": false
   },
   "outputs": [
    {
     "data": {
      "text/plain": [
       "file exists\t\n"
      ]
     },
     "execution_count": 17,
     "metadata": {},
     "output_type": "execute_result"
    }
   ],
   "source": [
    "\n",
    "labels_train, labels_validation, data_train, data_validation = utils.load_data()\n"
   ]
  },
  {
   "cell_type": "code",
   "execution_count": 4,
   "metadata": {
    "collapsed": false
   },
   "outputs": [],
   "source": [
    "\n",
    "-- nn model and criterion\n",
    "\n",
    "load_from_model = false\n",
    "if load_from_model then\n",
    "    model = torch.load('./models/model.t7')\n",
    "else \n",
    "    model = nn.Sequential()\n",
    "    model:add(nn.SpatialConvolution(3,16,3,3,1,1,1,1))\n",
    "    model:add(nn.LeakyReLU(0.2))\n",
    "    model:add(nn.SpatialFullConvolution(16, 3, 2, 2, 2, 2, 0, 0, 0, 0))\n",
    "    model:add(nn.LeakyReLU(0.2))\n",
    "    model:add(nn.View(3*102*102))\n",
    "    model:add(nn.Tanh())\n",
    "end\n",
    "\n",
    "criterion = nn.MSECriterion()\n"
   ]
  },
  {
   "cell_type": "code",
   "execution_count": 18,
   "metadata": {
    "collapsed": false
   },
   "outputs": [
    {
     "data": {
      "text/plain": [
       "epoch\tduration\tloss\t\n"
      ]
     },
     "execution_count": 18,
     "metadata": {},
     "output_type": "execute_result"
    },
    {
     "data": {
      "text/plain": [
       "1\t4s\t0.70878569421345\t"
      ]
     },
     "execution_count": 18,
     "metadata": {},
     "output_type": "execute_result"
    },
    {
     "data": {
      "text/plain": [
       "\n"
      ]
     },
     "execution_count": 18,
     "metadata": {},
     "output_type": "execute_result"
    },
    {
     "data": {
      "text/plain": [
       "model saved\t\n"
      ]
     },
     "execution_count": 18,
     "metadata": {},
     "output_type": "execute_result"
    },
    {
     "data": {
      "text/plain": [
       "losses saved\t\n"
      ]
     },
     "execution_count": 18,
     "metadata": {},
     "output_type": "execute_result"
    }
   ],
   "source": [
    "\n",
    "reload('utils')\n",
    "\n",
    "-- torch.setnumthreads(4)\n",
    "torch.manualSeed(0)\n",
    "\n",
    "-- start_training(model, criterion, data_train, labels_train)\n",
    "\n",
    "sgd_params = {\n",
    "   learningRate = 1e-2,\n",
    "   learningRateDecay = 1e-4,\n",
    "   weightDecay = 0,\n",
    "   momentum = 0\n",
    "}\n",
    "\n",
    "params = {\n",
    "    sgd_params = sgd_params,\n",
    "    model = model,\n",
    "    criterion = criterion,\n",
    "    data_train = data_train,\n",
    "    labels_train = labels_train,\n",
    "\n",
    "    num_of_epochs = 1,\n",
    "    batch_size = 20,\n",
    "    model_name = 'srcnn_test'\n",
    "}\n",
    "\n",
    "start_training(params)\n"
   ]
  },
  {
   "cell_type": "code",
   "execution_count": 21,
   "metadata": {
    "collapsed": false
   },
   "outputs": [
    {
     "data": {
      "text/plain": [
       "epoch\tduration\tloss\t\n"
      ]
     },
     "execution_count": 21,
     "metadata": {},
     "output_type": "execute_result"
    },
    {
     "data": {
      "text/plain": [
       "1\t4s\t0.82413550606057\t\n"
      ]
     },
     "execution_count": 21,
     "metadata": {},
     "output_type": "execute_result"
    },
    {
     "data": {
      "text/plain": [
       "2\t4s\t0.56393823799589\t\n"
      ]
     },
     "execution_count": 21,
     "metadata": {},
     "output_type": "execute_result"
    },
    {
     "data": {
      "text/plain": [
       "3\t4s\t0.39333910788821\t\n"
      ]
     },
     "execution_count": 21,
     "metadata": {},
     "output_type": "execute_result"
    },
    {
     "data": {
      "text/plain": [
       "4\t4s\t0.29388149485736\t\n"
      ]
     },
     "execution_count": 21,
     "metadata": {},
     "output_type": "execute_result"
    },
    {
     "data": {
      "text/plain": [
       "5\t3s\t0.23609195702881\t\n"
      ]
     },
     "execution_count": 21,
     "metadata": {},
     "output_type": "execute_result"
    },
    {
     "data": {
      "text/plain": [
       "model saved\t\n"
      ]
     },
     "execution_count": 21,
     "metadata": {},
     "output_type": "execute_result"
    },
    {
     "data": {
      "text/plain": [
       "losses saved\t\n"
      ]
     },
     "execution_count": 21,
     "metadata": {},
     "output_type": "execute_result"
    }
   ],
   "source": [
    "\n",
    "model = nn.Sequential()\n",
    "model:add(nn.SpatialConvolution(3,16,3,3,1,1,1,1))\n",
    "model:add(nn.LeakyReLU(0.2))\n",
    "model:add(nn.SpatialFullConvolution(16, 3, 2, 2, 2, 2, 0, 0, 0, 0))\n",
    "model:add(nn.LeakyReLU(0.2))\n",
    "model:add(nn.View(3*102*102))\n",
    "model:add(nn.Tanh())\n",
    "\n",
    "params_1 = {\n",
    "    sgd_params = sgd_params,\n",
    "    model = model,\n",
    "    criterion = criterion,\n",
    "    data_train = data_train,\n",
    "    labels_train = labels_train,\n",
    "\n",
    "    num_of_epochs = 5,\n",
    "    batch_size = 20,\n",
    "    model_name = 'srcnn_test_2'\n",
    "}\n",
    "\n",
    "utils.start_training(params_1)\n"
   ]
  },
  {
   "cell_type": "code",
   "execution_count": null,
   "metadata": {
    "collapsed": false
   },
   "outputs": [],
   "source": []
  },
  {
   "cell_type": "code",
   "execution_count": null,
   "metadata": {
    "collapsed": false
   },
   "outputs": [],
   "source": []
  },
  {
   "cell_type": "code",
   "execution_count": null,
   "metadata": {
    "collapsed": false
   },
   "outputs": [],
   "source": []
  },
  {
   "cell_type": "code",
   "execution_count": null,
   "metadata": {
    "collapsed": false
   },
   "outputs": [],
   "source": []
  },
  {
   "cell_type": "code",
   "execution_count": 12,
   "metadata": {
    "collapsed": false
   },
   "outputs": [],
   "source": []
  },
  {
   "cell_type": "code",
   "execution_count": 31,
   "metadata": {
    "collapsed": false
   },
   "outputs": [],
   "source": []
  },
  {
   "cell_type": "code",
   "execution_count": 32,
   "metadata": {
    "collapsed": false
   },
   "outputs": [],
   "source": []
  },
  {
   "cell_type": "code",
   "execution_count": 85,
   "metadata": {
    "collapsed": false
   },
   "outputs": [
    {
     "data": {
      "text/plain": [
       "  2\n",
       "  3\n",
       " 51\n",
       " 51\n",
       "[torch.LongStorage of size 4]\n",
       "\n"
      ]
     },
     "execution_count": 85,
     "metadata": {},
     "output_type": "execute_result"
    },
    {
     "data": {
      "text/plain": [
       "  2\n",
       " 64\n",
       " 51\n",
       " 51\n",
       "[torch.LongStorage of size 4]\n",
       "\n"
      ]
     },
     "execution_count": 85,
     "metadata": {},
     "output_type": "execute_result"
    },
    {
     "data": {
      "text/plain": [
       "  2\n",
       " 32\n",
       " 51\n",
       " 51\n",
       "[torch.LongStorage of size 4]\n",
       "\n"
      ]
     },
     "execution_count": 85,
     "metadata": {},
     "output_type": "execute_result"
    },
    {
     "data": {
      "text/plain": [
       "   2\n",
       "   3\n",
       " 102\n",
       " 102\n",
       "[torch.LongStorage of size 4]\n",
       "\n"
      ]
     },
     "execution_count": 85,
     "metadata": {},
     "output_type": "execute_result"
    }
   ],
   "source": [
    "\n",
    "-- labels_train:size()\n",
    "-- r = models.model_9_5_5:forward(labels_train[{1}])\n",
    "\n",
    "o1 = data_train[{{1,2}}]\n",
    "print(o1:size())\n",
    "m1 = nn.SpatialConvolution(3,64,9,9,1,1,4,4)\n",
    "\n",
    "o2 = m1:forward(o1)\n",
    "print(o2:size())\n",
    "m2 = nn.SpatialConvolution(64,32,5,5,1,1,2,2)\n",
    "\n",
    "o3 = m2:forward(o2)\n",
    "print(o3:size())\n",
    "m3 = nn.SpatialFullConvolution(32,3,6,6,2,2,2,2)\n",
    "\n",
    "o4 = m3:forward(o3)\n",
    "print(o4:size())\n"
   ]
  },
  {
   "cell_type": "code",
   "execution_count": null,
   "metadata": {
    "collapsed": false
   },
   "outputs": [],
   "source": []
  },
  {
   "cell_type": "code",
   "execution_count": 41,
   "metadata": {
    "collapsed": false
   },
   "outputs": [
    {
     "data": {
      "text/plain": [
       "file exists\t\n"
      ]
     },
     "execution_count": 41,
     "metadata": {},
     "output_type": "execute_result"
    },
    {
     "data": {
      "text/plain": [
       "files saved\tsrcnn_test\t\n",
       "\n"
      ]
     },
     "execution_count": 41,
     "metadata": {},
     "output_type": "execute_result"
    }
   ],
   "source": [
    "dofile('validate.lua')"
   ]
  },
  {
   "cell_type": "code",
   "execution_count": 86,
   "metadata": {
    "collapsed": false
   },
   "outputs": [
    {
     "data": {
      "text/plain": [
       "222\t\n"
      ]
     },
     "execution_count": 86,
     "metadata": {},
     "output_type": "execute_result"
    }
   ],
   "source": [
    "tbl = {\n",
    "    aaa = '222',\n",
    "    bbb = 'ccc'\n",
    "}\n",
    "\n",
    "print(tbl[\"aaa\"])"
   ]
  },
  {
   "cell_type": "code",
   "execution_count": null,
   "metadata": {
    "collapsed": false
   },
   "outputs": [],
   "source": []
  },
  {
   "cell_type": "code",
   "execution_count": null,
   "metadata": {
    "collapsed": false
   },
   "outputs": [],
   "source": []
  }
 ],
 "metadata": {
  "kernelspec": {
   "display_name": "iTorch",
   "language": "lua",
   "name": "itorch"
  },
  "language_info": {
   "name": "lua",
   "version": "5.1"
  }
 },
 "nbformat": 4,
 "nbformat_minor": 1
}
